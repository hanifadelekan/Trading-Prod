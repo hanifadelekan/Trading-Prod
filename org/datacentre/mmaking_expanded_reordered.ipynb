{
 "cells": [
  {
   "cell_type": "code",
   "execution_count": 1,
   "id": "08d45a9b",
   "metadata": {},
   "outputs": [],
   "source": [
    "import numpy as np"
   ]
  },
  {
   "cell_type": "markdown",
   "id": "4148bc6c",
   "metadata": {},
   "source": [
    "# 🧠 Solving the Infinite-Horizon HJB for Market Making\n",
    "\n",
    "We compute the optimal bid and ask spreads that:\n",
    "\n",
    "- Maximize expected utility of terminal wealth  \n",
    "- Balance inventory risk and market opportunity  \n",
    "- React to signals (price, imbalance, volatility)  \n",
    "\n",
    "We solve a **stationary infinite-horizon HJB equation** to get the value function.\n"
   ]
  },
  {
   "cell_type": "code",
   "execution_count": 2,
   "id": "f1dc1ff0",
   "metadata": {},
   "outputs": [],
   "source": [
    "# No code needed for this high-level description"
   ]
  },
  {
   "cell_type": "markdown",
   "id": "80eb56f6",
   "metadata": {},
   "source": [
    "## 🧮 Step 1: Define Variables\n",
    "\n",
    "### 🔢 State Variables (dynamically evolving)\n",
    "\n",
    "Let the state be a tuple: $(q, s, z, \\sigma)$\n",
    "\n",
    "- $q$: Inventory  \n",
    "- $s$: Midprice  \n",
    "- $z$: Order imbalance  \n",
    "- $\\sigma$: Volatility  \n",
    "\n",
    "---\n",
    "\n",
    "### ⚙️ Control Variables\n",
    "\n",
    "- $\\delta_b$: Bid spread from midprice → quote at $s - \\delta_b$  \n",
    "- $\\delta_a$: Ask spread from midprice → quote at $s + \\delta_a$\n"
   ]
  },
  {
   "cell_type": "code",
   "execution_count": 3,
   "id": "2f7c6a89",
   "metadata": {},
   "outputs": [],
   "source": [
    "# Define state and control variables\n",
    "q = 0  # inventory\n",
    "s = 30000.0  # midprice\n",
    "z = 0.0  # imbalance\n",
    "sigma = 0.05  # volatility\n",
    "delta_b = 0.5  # bid spread\n",
    "delta_a = 0.5  # ask spread"
   ]
  },
  {
   "cell_type": "markdown",
   "id": "ef1a5ad8",
   "metadata": {},
   "source": [
    "### 📈 Market Parameters\n",
    "\n",
    "- $\\lambda_b(\\delta_b) = A e^{-k \\delta_b}$: Buy arrival rate  \n",
    "- $\\lambda_a(\\delta_a) = A e^{-k \\delta_a}$: Sell arrival rate  \n",
    "- $\\mu(s, z, \\sigma)$: Drift of midprice  \n",
    "- $\\sigma$: Local volatility (state variable)\n"
   ]
  },
  {
   "cell_type": "code",
   "execution_count": 4,
   "id": "e6564849",
   "metadata": {},
   "outputs": [],
   "source": [
    "# Define market parameters\n",
    "import numpy as np\n",
    "A = 0.1\n",
    "k = 1.5\n",
    "gamma = 0.1\n",
    "lambda_b = lambda delta: A * np.exp(-k * delta)\n",
    "lambda_a = lambda delta: A * np.exp(-k * delta)"
   ]
  },
  {
   "cell_type": "markdown",
   "id": "4df1ba37",
   "metadata": {},
   "source": [
    "### 🎯 Utility and Value Function\n",
    "\n",
    "We use exponential utility of terminal wealth:\n",
    "\n",
    "$$\n",
    "u(t, x, q, s) = -\\exp\\left(-\\gamma\\left(x + q s + \\phi(q, s, z, \\sigma)\\right)\\right)\n",
    "$$\n",
    "\n",
    "- $x$: Cash (drops out of control problem)  \n",
    "- $\\phi(q, s, z, \\sigma)$: Value function to solve for\n"
   ]
  },
  {
   "cell_type": "code",
   "execution_count": 5,
   "id": "9eb4f8d8",
   "metadata": {},
   "outputs": [],
   "source": [
    "# Define the utility function and the ansatz\n",
    "import math\n",
    "def utility(x, q, s, phi):\n",
    "    return -math.exp(-gamma * (x + q * s + phi))"
   ]
  },
  {
   "cell_type": "markdown",
   "id": "4bb9c523",
   "metadata": {},
   "source": [
    "## 📘 Step 2: The HJB Equation\n",
    "\n",
    "In the stationary infinite-horizon case (no $\\partial_t \\phi$):\n",
    "\n",
    "$$\n",
    "0 = \\mu(s, z, \\sigma) \\frac{\\partial \\phi}{\\partial s}\n",
    "+ \\frac{1}{2} \\sigma^2 \\frac{\\partial^2 \\phi}{\\partial s^2}\n",
    "+ J_{\\text{bid}} + J_{\\text{ask}}\n",
    "$$\n"
   ]
  },
  {
   "cell_type": "markdown",
   "id": "06228448",
   "metadata": {},
   "source": [
    "## 📈 Including Volatility as a State Variable\n",
    "\n",
    "Volatility $\\sigma$ affects the risk of quoting and the optimal spread.\n",
    "\n",
    "### ✅ Add volatility dynamics to the HJB:\n",
    "If $\\sigma$ follows an SDE like:\n",
    "$$ d\\sigma = \\eta(\\sigma)\\,dt + \\nu(\\sigma)\\,dW_t $$\n",
    "Then the HJB gains two new terms:\n",
    "$$ \\eta(\\sigma)\\, \\frac{\\partial \\phi}{\\partial \\sigma} + \\frac{1}{2} \\nu^2(\\sigma) \\frac{\\partial^2 \\phi}{\\partial \\sigma^2} $$\n",
    "\n",
    "### ✅ The full HJB:\n",
    "$$ \\begin{aligned}\n",
    "0 = &\\ \\mu(s, z, \\sigma) \\frac{\\partial \\phi}{\\partial s}\n",
    "+ \\frac{1}{2} \\sigma^2 \\frac{\\partial^2 \\phi}{\\partial s^2} \\\\\n",
    "&+ \\eta(\\sigma) \\frac{\\partial \\phi}{\\partial \\sigma}\n",
    "+ \\frac{1}{2} \\nu^2(\\sigma) \\frac{\\partial^2 \\phi}{\\partial \\sigma^2} \\\\\n",
    "&+ J_{\\text{bid}} + J_{\\text{ask}}\n",
    "\\end{aligned} $$\n",
    "\n",
    "### ✅ Update optimal spreads:\n",
    "$$ \\delta_b^* = \\phi(q+1, s, z, \\sigma) - \\phi(q, s, z, \\sigma) + C $$\n",
    "$$ \\delta_a^* = -\\left(\\phi(q-1, s, z, \\sigma) - \\phi(q, s, z, \\sigma)\\right) + C $$\n",
    "\n",
    "### ✅ Discretize $\\sigma$:\n",
    "- Use finite differences for $\\partial_\\sigma \\phi$ and $\\partial^2_{\\sigma\\sigma} \\phi$\n",
    "- Result: a 4D grid $\\phi[q][s][z][\\sigma]$\n"
   ]
  },
  {
   "cell_type": "code",
   "execution_count": 7,
   "id": "7db66171",
   "metadata": {},
   "outputs": [],
   "source": [
    "# Example jump terms computation\n",
    "phi_q = 1.0\n",
    "phi_q_plus1 = 1.05\n",
    "phi_q_minus1 = 0.95\n",
    "delta_b = phi_q_plus1 - phi_q + (1/gamma) * np.log((k+gamma)/k)\n",
    "delta_a = -(phi_q_minus1 - phi_q) + (1/gamma) * np.log((k+gamma)/k)\n",
    "J_bid = lambda_b(delta_b) * (np.exp(-gamma * (delta_b + phi_q_plus1 - phi_q)) - 1)\n",
    "J_ask = lambda_a(delta_a) * (np.exp(-gamma * (-delta_a + phi_q_minus1 - phi_q)) - 1)"
   ]
  },
  {
   "cell_type": "markdown",
   "id": "0d39b2d0",
   "metadata": {},
   "source": [
    "### 🔁 Jump Terms\n",
    "\n",
    "$$\n",
    "J_{\\text{bid}} = \\lambda_b(\\delta_b) \\left[\n",
    "\\exp\\left(-\\gamma(\\delta_b + \\phi(q+1) - \\phi(q))\\right) - 1\n",
    "\\right]\n",
    "$$\n",
    "\n",
    "$$\n",
    "J_{\\text{ask}} = \\lambda_a(\\delta_a) \\left[\n",
    "\\exp\\left(-\\gamma(-\\delta_a + \\phi(q-1) - \\phi(q))\\right) - 1\n",
    "\\right]\n",
    "$$\n"
   ]
  },
  {
   "cell_type": "code",
   "execution_count": 8,
   "id": "25facf71",
   "metadata": {},
   "outputs": [],
   "source": [
    "# Compute optimal spreads\n",
    "C = (1/gamma) * np.log((k + gamma)/k)\n",
    "delta_b_star = phi_q_plus1 - phi_q + C\n",
    "delta_a_star = -(phi_q_minus1 - phi_q) + C"
   ]
  },
  {
   "cell_type": "markdown",
   "id": "49dc8f72",
   "metadata": {},
   "source": [
    "### 🧮 Optimal Spreads\n",
    "\n",
    "$$\n",
    "\\delta_b^* = \\phi(q+1, s, z, \\sigma) - \\phi(q, s, z, \\sigma) + C\n",
    "$$\n",
    "\n",
    "$$\n",
    "\\delta_a^* = -\\left(\\phi(q-1, s, z, \\sigma) - \\phi(q, s, z, \\sigma)\\right) + C\n",
    "$$\n",
    "\n",
    "Where:\n",
    "\n",
    "$$\n",
    "C = \\frac{1}{\\gamma} \\log\\left(\\frac{k + \\gamma}{k}\\right)\n",
    "$$\n"
   ]
  },
  {
   "cell_type": "code",
   "execution_count": 9,
   "id": "1c4111a6",
   "metadata": {},
   "outputs": [],
   "source": [
    "# Basic value iteration loop\n",
    "phi_grid = np.zeros((3, 3, 3, 3))  # Example shape (q, s, z, sigma)\n",
    "for iter in range(10):\n",
    "    # dummy update rule\n",
    "    phi_grid += 0.01  # Increment as a placeholder"
   ]
  },
  {
   "cell_type": "markdown",
   "id": "2ddb8074",
   "metadata": {},
   "source": [
    "## 🔧 Step 3: Numerical Value Iteration\n",
    "\n",
    "1. Discretize $q, s, z, \\sigma$  \n",
    "2. Initialize grid $\\phi[q][s][z][\\sigma]$  \n",
    "3. Repeat until convergence:\n",
    "   - For each grid point:\n",
    "     - Compute $\\delta_b, \\delta_a$\n",
    "     - Compute jump terms $J_{\\text{bid}}, J_{\\text{ask}}$\n",
    "     - Approximate $\\partial_s \\phi$ and $\\partial^2_{ss} \\phi$ via finite differences\n",
    "     - Evaluate HJB:\n",
    "     \n",
    "       $$\n",
    "       HJB = \\mu \\frac{\\partial \\phi}{\\partial s} + \\frac{1}{2} \\sigma^2 \\frac{\\partial^2 \\phi}{\\partial s^2} + J_{\\text{bid}} + J_{\\text{ask}}\n",
    "       $$\n",
    "\n",
    "     - Update:\n",
    "\n",
    "       $$\n",
    "       \\phi_{\\text{new}} = \\phi - \\alpha \\cdot HJB\n",
    "       $$\n",
    "4. Measure:\n",
    "\n",
    "   $$\n",
    "   \\text{max\\_diff} = \\max \\left|\\phi_{\\text{new}} - \\phi\\right|\n",
    "   $$\n",
    "\n",
    "   Stop if $\\text{max\\_diff} < \\varepsilon$\n"
   ]
  },
  {
   "cell_type": "code",
   "execution_count": 10,
   "id": "e4f8a601",
   "metadata": {},
   "outputs": [],
   "source": [
    "# Extract control policy example\n",
    "def optimal_spreads(phi, q, s, z, sigma):\n",
    "    C = (1/gamma) * np.log((k + gamma)/k)\n",
    "    delta_b = phi[q+1, s, z, sigma] - phi[q, s, z, sigma] + C\n",
    "    delta_a = -(phi[q-1, s, z, sigma] - phi[q, s, z, sigma]) + C\n",
    "    return delta_b, delta_a"
   ]
  },
  {
   "cell_type": "markdown",
   "id": "08adf07d",
   "metadata": {},
   "source": [
    "## 📤 Step 4: Extract Control Policy\n",
    "\n",
    "After convergence:\n",
    "\n",
    "$$\n",
    "\\delta_b(q, s, z, \\sigma) = \\phi(q+1) - \\phi(q) + C\n",
    "$$\n",
    "\n",
    "$$\n",
    "\\delta_a(q, s, z, \\sigma) = -(\\phi(q-1) - \\phi(q)) + C\n",
    "$$\n"
   ]
  },
  {
   "cell_type": "code",
   "execution_count": null,
   "id": "3ba921af",
   "metadata": {},
   "outputs": [],
   "source": []
  }
 ],
 "metadata": {
  "kernelspec": {
   "display_name": "mytrading",
   "language": "python",
   "name": "python3"
  },
  "language_info": {
   "codemirror_mode": {
    "name": "ipython",
    "version": 3
   },
   "file_extension": ".py",
   "mimetype": "text/x-python",
   "name": "python",
   "nbconvert_exporter": "python",
   "pygments_lexer": "ipython3",
   "version": "3.11.13"
  }
 },
 "nbformat": 4,
 "nbformat_minor": 5
}
