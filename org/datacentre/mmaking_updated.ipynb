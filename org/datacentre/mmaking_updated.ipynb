{
 "cells": [
  {
   "cell_type": "markdown",
   "id": "361e4cb4",
   "metadata": {},
   "source": []
  },
  {
   "cell_type": "markdown",
   "id": "6754aa47",
   "metadata": {},
   "source": [
    "STATE VARIABLES\n",
    "$$\n",
    "\\phi(q, s, z, \\sigma) = \\phi(q, s, z, \\sigma) - \\alpha \\cdot HJB\n",
    "$$\n"
   ]
  },
  {
   "cell_type": "markdown",
   "id": "fa63f4aa",
   "metadata": {},
   "source": [
    "## 📈 Including Volatility as a State Variable\n",
    "\n",
    "Volatility $\\sigma$ affects the risk of quoting and the optimal spread.\n",
    "\n",
    "### ✅ Make $\\sigma$ a full state variable:\n",
    "- The value function becomes $\\phi(q, s, z, \\sigma)$.\n",
    "- HJB becomes a PDE in **4 dimensions**.\n",
    "\n",
    "### ✅ Add volatility dynamics to the HJB:\n",
    "If $\\sigma$ follows an SDE like:\n",
    "$$ d\\sigma = \\eta(\\sigma)\\,dt + \\nu(\\sigma)\\,dW_t $$\n",
    "Then the HJB gains two new terms:\n",
    "$$ \\eta(\\sigma)\\, \\frac{\\partial \\phi}{\\partial \\sigma} + \\frac{1}{2} \\nu^2(\\sigma) \\frac{\\partial^2 \\phi}{\\partial \\sigma^2} $$\n",
    "\n",
    "### ✅ The full HJB:\n",
    "$$ \\begin{aligned}\n",
    "0 = &\\ \\mu(s, z, \\sigma) \\frac{\\partial \\phi}{\\partial s}\n",
    "+ \\frac{1}{2} \\sigma^2 \\frac{\\partial^2 \\phi}{\\partial s^2} \\\\\n",
    "&+ \\eta(\\sigma) \\frac{\\partial \\phi}{\\partial \\sigma}\n",
    "+ \\frac{1}{2} \\nu^2(\\sigma) \\frac{\\partial^2 \\phi}{\\partial \\sigma^2} \\\\\n",
    "&+ J_{\\text{bid}} + J_{\\text{ask}}\n",
    "\\end{aligned} $$\n",
    "\n",
    "### ✅ Update optimal spreads:\n",
    "$$ \\delta_b^* = \\phi(q+1, s, z, \\sigma) - \\phi(q, s, z, \\sigma) + C $$\n",
    "$$ \\delta_a^* = -\\left(\\phi(q-1, s, z, \\sigma) - \\phi(q, s, z, \\sigma)\\right) + C $$\n",
    "\n",
    "### ✅ Discretize $\\sigma$:\n",
    "- Use finite differences for $\\partial_\\sigma \\phi$ and $\\partial^2_{\\sigma\\sigma} \\phi$\n",
    "- Result: a 4D grid $\\phi[q][s][z][\\sigma]$\n"
   ]
  },
  {
   "cell_type": "markdown",
   "id": "b14d2816",
   "metadata": {},
   "source": [
    "## 📈 Including Volatility as a State Variable\n",
    "\n",
    "Volatility $\\sigma$ affects the risk of quoting and the optimal spread.\n",
    "\n",
    "### ✅ Make $\\sigma$ a full state variable:\n",
    "- The value function becomes $\\phi(q, s, z, \\sigma)$.\n",
    "- HJB becomes a PDE in **4 dimensions**.\n",
    "\n",
    "### ✅ Add volatility dynamics to the HJB:\n",
    "If $\\sigma$ follows an SDE like:\n",
    "$$ d\\sigma = \\eta(\\sigma)\\,dt + \\nu(\\sigma)\\,dW_t $$\n",
    "Then the HJB gains two new terms:\n",
    "$$ \\eta(\\sigma)\\, \\frac{\\partial \\phi}{\\partial \\sigma} + \\frac{1}{2} \\nu^2(\\sigma) \\frac{\\partial^2 \\phi}{\\partial \\sigma^2} $$\n",
    "\n",
    "### ✅ The full HJB:\n",
    "$$ \\begin{aligned}\n",
    "0 = &\\ \\mu(s, z, \\sigma) \\frac{\\partial \\phi}{\\partial s}\n",
    "+ \\frac{1}{2} \\sigma^2 \\frac{\\partial^2 \\phi}{\\partial s^2} \\\\\n",
    "&+ \\eta(\\sigma) \\frac{\\partial \\phi}{\\partial \\sigma}\n",
    "+ \\frac{1}{2} \\nu^2(\\sigma) \\frac{\\partial^2 \\phi}{\\partial \\sigma^2} \\\\\n",
    "&+ J_{\\text{bid}} + J_{\\text{ask}}\n",
    "\\end{aligned} $$\n",
    "\n",
    "### ✅ Update optimal spreads:\n",
    "$$ \\delta_b^* = \\phi(q+1, s, z, \\sigma) - \\phi(q, s, z, \\sigma) + C $$\n",
    "$$ \\delta_a^* = -\\left(\\phi(q-1, s, z, \\sigma) - \\phi(q, s, z, \\sigma)\\right) + C $$\n",
    "\n",
    "### ✅ Discretize $\\sigma$:\n",
    "- Use finite differences for $\\partial_\\sigma \\phi$ and $\\partial^2_{\\sigma\\sigma} \\phi$\n",
    "- Result: a 4D grid $\\phi[q][s][z][\\sigma]$\n"
   ]
  },
  {
   "cell_type": "markdown",
   "id": "3a7c0402",
   "metadata": {},
   "source": [
    "## 📈 Including Volatility as a State Variable\n",
    "\n",
    "Volatility $\\sigma$ affects the risk of quoting and the optimal spread.\n",
    "\n",
    "### ✅ Make $\\sigma$ a full state variable:\n",
    "- The value function becomes $\\phi(q, s, z, \\sigma)$.\n",
    "- HJB becomes a PDE in **4 dimensions**.\n",
    "\n",
    "### ✅ Add volatility dynamics to the HJB:\n",
    "If $\\sigma$ follows an SDE like:\n",
    "$$ d\\sigma = \\eta(\\sigma)\\,dt + \\nu(\\sigma)\\,dW_t $$\n",
    "Then the HJB gains two new terms:\n",
    "$$ \\eta(\\sigma)\\, \\frac{\\partial \\phi}{\\partial \\sigma} + \\frac{1}{2} \\nu^2(\\sigma) \\frac{\\partial^2 \\phi}{\\partial \\sigma^2} $$\n",
    "\n",
    "### ✅ The full HJB:\n",
    "$$ \\begin{aligned}\n",
    "0 = &\\ \\mu(s, z, \\sigma) \\frac{\\partial \\phi}{\\partial s}\n",
    "+ \\frac{1}{2} \\sigma^2 \\frac{\\partial^2 \\phi}{\\partial s^2} \\\\\n",
    "&+ \\eta(\\sigma) \\frac{\\partial \\phi}{\\partial \\sigma}\n",
    "+ \\frac{1}{2} \\nu^2(\\sigma) \\frac{\\partial^2 \\phi}{\\partial \\sigma^2} \\\\\n",
    "&+ J_{\\text{bid}} + J_{\\text{ask}}\n",
    "\\end{aligned} $$\n",
    "\n",
    "### ✅ Update optimal spreads:\n",
    "$$ \\delta_b^* = \\phi(q+1, s, z, \\sigma) - \\phi(q, s, z, \\sigma) + C $$\n",
    "$$ \\delta_a^* = -\\left(\\phi(q-1, s, z, \\sigma) - \\phi(q, s, z, \\sigma)\\right) + C $$\n",
    "\n",
    "### ✅ Discretize $\\sigma$:\n",
    "- Use finite differences for $\\partial_\\sigma \\phi$ and $\\partial^2_{\\sigma\\sigma} \\phi$\n",
    "- Result: a 4D grid $\\phi[q][s][z][\\sigma]$\n"
   ]
  }
 ],
 "metadata": {
  "kernelspec": {
   "display_name": "mytrading",
   "language": "python",
   "name": "python3"
  },
  "language_info": {
   "codemirror_mode": {
    "name": "ipython",
    "version": 3
   },
   "file_extension": ".py",
   "mimetype": "text/x-python",
   "name": "python",
   "nbconvert_exporter": "python",
   "pygments_lexer": "ipython3",
   "version": "3.11.13"
  }
 },
 "nbformat": 4,
 "nbformat_minor": 5
}
