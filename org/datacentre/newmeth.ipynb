{
 "cells": [
  {
   "cell_type": "code",
   "execution_count": null,
   "id": "9031afc1",
   "metadata": {},
   "outputs": [],
   "source": [
    "from dolfin import *\n",
    "\n",
    "Qmax   = 9\n",
    "Nz, Ns = 100, 50             # refine to taste\n",
    "mesh   = RectangleMesh(Point(-0.05, 0.30),\n",
    "                       Point( 0.05,  0.90),\n",
    "                       Nz, Ns)\n",
    "\n",
    "V  = FunctionSpace(mesh, \"CG\", 1)        # continuous linear\n",
    "phi = Function(V)                        # unknown\n",
    "v   = TestFunction(V)\n"
   ]
  },
  {
   "cell_type": "code",
   "execution_count": null,
   "id": "77241326",
   "metadata": {},
   "outputs": [],
   "source": []
  }
 ],
 "metadata": {
  "language_info": {
   "name": "python"
  }
 },
 "nbformat": 4,
 "nbformat_minor": 5
}
